{
  "nbformat": 4,
  "nbformat_minor": 0,
  "metadata": {
    "colab": {
      "provenance": [],
      "authorship_tag": "ABX9TyNKsVZLWiD1Hh9C6b2Mlm8+",
      "include_colab_link": true
    },
    "kernelspec": {
      "name": "python3",
      "display_name": "Python 3"
    },
    "language_info": {
      "name": "python"
    }
  },
  "cells": [
    {
      "cell_type": "markdown",
      "metadata": {
        "id": "view-in-github",
        "colab_type": "text"
      },
      "source": [
        "<a href=\"https://colab.research.google.com/github/2303A51272/pythonDS/blob/main/lab3.ipynb\" target=\"_parent\"><img src=\"https://colab.research.google.com/assets/colab-badge.svg\" alt=\"Open In Colab\"/></a>"
      ]
    },
    {
      "cell_type": "code",
      "execution_count": 1,
      "metadata": {
        "colab": {
          "base_uri": "https://localhost:8080/"
        },
        "id": "MJPXXgM3o-_F",
        "outputId": "127abe25-64a4-4ecd-c387-c945054644b5"
      },
      "outputs": [
        {
          "output_type": "stream",
          "name": "stdout",
          "text": [
            "\n",
            "Row-wise Mean (Avg per student): [87.   84.   89.75 68.75]\n",
            "\n",
            "Column-wise Mean (Avg per test): [80.25 83.5  83.75 82.  ]\n"
          ]
        }
      ],
      "source": [
        "import numpy as np\n",
        "import matplotlib.pyplot as plt\n",
        "scores = np.array([\n",
        "    [78, 85, 90, 95],\n",
        "    [88, 92, 80, 76],\n",
        "    [90, 87, 93, 89],\n",
        "    [65, 70, 72, 68]\n",
        "])\n",
        "\n",
        "row_mean = np.mean(scores, axis=1)\n",
        "print(\"\\nRow-wise Mean (Avg per student):\", row_mean)\n",
        "\n",
        "col_mean = np.mean(scores, axis=0)\n",
        "print(\"\\nColumn-wise Mean (Avg per test):\", col_mean)"
      ]
    },
    {
      "cell_type": "code",
      "source": [
        "row_std = np.std(scores, axis=1)\n",
        "row_var = np.var(scores, axis=1)\n",
        "print(\"\\nRow-wise Standard Deviation:\", row_std)\n",
        "print(\"Row-wise Variance:\", row_var)\n",
        "\n",
        "col_std = np.std(scores, axis=0)\n",
        "col_var = np.var(scores, axis=0)\n",
        "print(\"\\nColumn-wise Standard Deviation:\", col_std)\n",
        "print(\"Column-wise Variance:\", col_var)"
      ],
      "metadata": {
        "colab": {
          "base_uri": "https://localhost:8080/"
        },
        "id": "gOQb529ipMlb",
        "outputId": "36db921a-2f13-481c-b2a2-6547781ccb7a"
      },
      "execution_count": 2,
      "outputs": [
        {
          "output_type": "stream",
          "name": "stdout",
          "text": [
            "\n",
            "Row-wise Standard Deviation: [6.28490254 6.32455532 2.16506351 2.58602011]\n",
            "Row-wise Variance: [39.5    40.      4.6875  6.6875]\n",
            "\n",
            "Column-wise Standard Deviation: [ 9.90896059  8.20060973  8.31790238 10.60660172]\n",
            "Column-wise Variance: [ 98.1875  67.25    69.1875 112.5   ]\n"
          ]
        }
      ]
    },
    {
      "cell_type": "code",
      "source": [
        "global_max = np.max(scores)\n",
        "global_min = np.min(scores)\n",
        "print(\"\\nGlobal Max:\", global_max)\n",
        "print(\"Global Min:\", global_min)"
      ],
      "metadata": {
        "colab": {
          "base_uri": "https://localhost:8080/"
        },
        "id": "LmSsv_LLpPG9",
        "outputId": "c168707c-dabb-4fa9-b45b-9e3f6b22af38"
      },
      "execution_count": 3,
      "outputs": [
        {
          "output_type": "stream",
          "name": "stdout",
          "text": [
            "\n",
            "Global Max: 95\n",
            "Global Min: 65\n"
          ]
        }
      ]
    },
    {
      "cell_type": "code",
      "source": [
        "max_idx = np.unravel_index(np.argmax(scores), scores.shape)\n",
        "min_idx = np.unravel_index(np.argmin(scores), scores.shape)\n",
        "print(\"Index of Global Max:\", max_idx)\n",
        "print(\"Index of Global Min:\", min_idx)"
      ],
      "metadata": {
        "colab": {
          "base_uri": "https://localhost:8080/"
        },
        "id": "mHwF7yDvpcCz",
        "outputId": "2f55c943-a380-4bed-e711-74567a695358"
      },
      "execution_count": 4,
      "outputs": [
        {
          "output_type": "stream",
          "name": "stdout",
          "text": [
            "Index of Global Max: (np.int64(0), np.int64(3))\n",
            "Index of Global Min: (np.int64(3), np.int64(0))\n"
          ]
        }
      ]
    },
    {
      "cell_type": "code",
      "source": [
        "image = np.random.randint(0, 256, size=(3, 3, 3), dtype=np.uint8)\n",
        "print(\"Original RGB Image Matrix:\\n\", image)\n",
        "red_channel = image[:, :, 0]\n",
        "green_channel = image[:, :, 1]\n",
        "blue_channel = image[:, :, 2]\n",
        "print(\"\\nRed Channel:\\n\", red_channel)\n",
        "print(\"\\nGreen Channel:\\n\", green_channel)\n",
        "print(\"\\nBlue Channel:\\n\", blue_channel)"
      ],
      "metadata": {
        "colab": {
          "base_uri": "https://localhost:8080/"
        },
        "id": "iTogrMkZpe9y",
        "outputId": "d534f5a9-d56d-439b-9d9e-5024edd5fb48"
      },
      "execution_count": 5,
      "outputs": [
        {
          "output_type": "stream",
          "name": "stdout",
          "text": [
            "Original RGB Image Matrix:\n",
            " [[[ 37  17 191]\n",
            "  [238 125  59]\n",
            "  [129   9 130]]\n",
            "\n",
            " [[  1 165 218]\n",
            "  [165  97  11]\n",
            "  [238   5 205]]\n",
            "\n",
            " [[ 95  13  48]\n",
            "  [178 252 189]\n",
            "  [ 32 121 112]]]\n",
            "\n",
            "Red Channel:\n",
            " [[ 37 238 129]\n",
            " [  1 165 238]\n",
            " [ 95 178  32]]\n",
            "\n",
            "Green Channel:\n",
            " [[ 17 125   9]\n",
            " [165  97   5]\n",
            " [ 13 252 121]]\n",
            "\n",
            "Blue Channel:\n",
            " [[191  59 130]\n",
            " [218  11 205]\n",
            " [ 48 189 112]]\n"
          ]
        }
      ]
    },
    {
      "cell_type": "code",
      "source": [
        "avg_red = np.mean(red_channel)\n",
        "avg_green = np.mean(green_channel)\n",
        "avg_blue = np.mean(blue_channel)\n",
        "print(\"\\nAverage Red Intensity:\", avg_red)\n",
        "print(\"Average Green Intensity:\", avg_green)\n",
        "print(\"Average Blue Intensity:\", avg_blue)"
      ],
      "metadata": {
        "colab": {
          "base_uri": "https://localhost:8080/"
        },
        "id": "jD37Gp0apkQt",
        "outputId": "20190c81-ad5b-43f4-c1ea-d9fc334183a5"
      },
      "execution_count": 6,
      "outputs": [
        {
          "output_type": "stream",
          "name": "stdout",
          "text": [
            "\n",
            "Average Red Intensity: 123.66666666666667\n",
            "Average Green Intensity: 89.33333333333333\n",
            "Average Blue Intensity: 129.22222222222223\n"
          ]
        }
      ]
    },
    {
      "cell_type": "code",
      "source": [
        "brightened_image = np.clip(image + 50, 0, 255)\n",
        "print(\"\\nBrightened Image Matrix:\\n\", brightened_image)\n",
        "fig, axs = plt.subplots(1, 2, figsize=(8, 4))\n",
        "axs[0].imshow(image)\n",
        "axs[0].set_title('Original RGB Image')\n",
        "axs[0].axis('off')\n",
        "axs[1].imshow(brightened_image)\n",
        "axs[1].set_title('Brightened RGB Image')\n",
        "axs[1].axis('off')\n",
        "plt.tight_layout()\n",
        "plt.show()"
      ],
      "metadata": {
        "colab": {
          "base_uri": "https://localhost:8080/",
          "height": 646
        },
        "id": "O9ivnRdypoxZ",
        "outputId": "9d6a0840-a331-4569-a8f7-e385934fc4b1"
      },
      "execution_count": 7,
      "outputs": [
        {
          "output_type": "stream",
          "name": "stdout",
          "text": [
            "\n",
            "Brightened Image Matrix:\n",
            " [[[ 87  67 241]\n",
            "  [ 32 175 109]\n",
            "  [179  59 180]]\n",
            "\n",
            " [[ 51 215  12]\n",
            "  [215 147  61]\n",
            "  [ 32  55 255]]\n",
            "\n",
            " [[145  63  98]\n",
            "  [228  46 239]\n",
            "  [ 82 171 162]]]\n"
          ]
        },
        {
          "output_type": "display_data",
          "data": {
            "text/plain": [
              "<Figure size 800x400 with 2 Axes>"
            ],
            "image/png": "[encoded data removed]"
          },
          "metadata": {}
        }
      ]
    }
  ]
}