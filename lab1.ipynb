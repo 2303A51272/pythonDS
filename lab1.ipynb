{
  "nbformat": 4,
  "nbformat_minor": 0,
  "metadata": {
    "colab": {
      "provenance": [],
      "authorship_tag": "ABX9TyOcvB1v3hl0YW/HC/JiBwxg",
      "include_colab_link": true
    },
    "kernelspec": {
      "name": "python3",
      "display_name": "Python 3"
    },
    "language_info": {
      "name": "python"
    }
  },
  "cells": [
    {
      "cell_type": "markdown",
      "metadata": {
        "id": "view-in-github",
        "colab_type": "text"
      },
      "source": [
        "<a href=\"https://colab.research.google.com/github/2303A51272/pythonDS/blob/main/lab1.ipynb\" target=\"_parent\"><img src=\"https://colab.research.google.com/assets/colab-badge.svg\" alt=\"Open In Colab\"/></a>"
      ]
    },
    {
      "cell_type": "code",
      "execution_count": null,
      "metadata": {
        "colab": {
          "base_uri": "https://localhost:8080/"
        },
        "id": "j0Eypp73dRWc",
        "outputId": "9607bf1d-f32e-40a3-9954-025d4375f3bc"
      },
      "outputs": [
        {
          "output_type": "stream",
          "name": "stdout",
          "text": [
            "Enter the number:24\n",
            "The factorial of 24 is 620448401733239439360000\n"
          ]
        }
      ],
      "source": [
        "def factorial(n):\n",
        "  if n==0 or n==1:\n",
        "    return 1\n",
        "  else:\n",
        "      return n* factorial(n-1)\n",
        "number = int(input(\"Enter the number:\"))\n",
        "if number < 0:\n",
        "        print(\"Factorial is not defined for negative numbers.\")\n",
        "else:\n",
        "          result=factorial(number)\n",
        "          print(f\"The factorial of {number} is {result}\")"
      ]
    },
    {
      "cell_type": "code",
      "source": [
        "def factorial(n, depth=0):\n",
        "    indent = \"  \" * depth\n",
        "    print(f\"{indent}factorial({n}) called\")\n",
        "\n",
        "    if n == 0 or n == 1:\n",
        "        print(f\"{indent}Base case reached: return 1\")\n",
        "        return 1\n",
        "    else:\n",
        "        print(f\"{indent}Recursive step: return {n} * factorial({n - 1})\")\n",
        "        result = n * factorial(n - 1, depth + 1)\n",
        "        print(f\"{indent}Returning: {n} * factorial({n - 1}) = {result}\")\n",
        "        return result\n",
        "\n",
        "number = int(input(\"Enter a number: \"))\n",
        "\n",
        "if number < 0:\n",
        "    print(\"Factorial is not defined for negative numbers.\")\n",
        "else:\n",
        "    result = factorial(number)\n",
        "    print(f\"The factorial of {number} is {result}\")"
      ],
      "metadata": {
        "colab": {
          "base_uri": "https://localhost:8080/"
        },
        "id": "AFuTUgYgdmsH",
        "outputId": "6b40fb7a-2814-4b58-f714-35b76e3f0f07"
      },
      "execution_count": null,
      "outputs": [
        {
          "output_type": "stream",
          "name": "stdout",
          "text": [
            "Enter a number: 12\n",
            "factorial(12) called\n",
            "Recursive step: return 12 * factorial(11)\n",
            "  factorial(11) called\n",
            "  Recursive step: return 11 * factorial(10)\n",
            "    factorial(10) called\n",
            "    Recursive step: return 10 * factorial(9)\n",
            "      factorial(9) called\n",
            "      Recursive step: return 9 * factorial(8)\n",
            "        factorial(8) called\n",
            "        Recursive step: return 8 * factorial(7)\n",
            "          factorial(7) called\n",
            "          Recursive step: return 7 * factorial(6)\n",
            "            factorial(6) called\n",
            "            Recursive step: return 6 * factorial(5)\n",
            "              factorial(5) called\n",
            "              Recursive step: return 5 * factorial(4)\n",
            "                factorial(4) called\n",
            "                Recursive step: return 4 * factorial(3)\n",
            "                  factorial(3) called\n",
            "                  Recursive step: return 3 * factorial(2)\n",
            "                    factorial(2) called\n",
            "                    Recursive step: return 2 * factorial(1)\n",
            "                      factorial(1) called\n",
            "                      Base case reached: return 1\n",
            "                    Returning: 2 * factorial(1) = 2\n",
            "                  Returning: 3 * factorial(2) = 6\n",
            "                Returning: 4 * factorial(3) = 24\n",
            "              Returning: 5 * factorial(4) = 120\n",
            "            Returning: 6 * factorial(5) = 720\n",
            "          Returning: 7 * factorial(6) = 5040\n",
            "        Returning: 8 * factorial(7) = 40320\n",
            "      Returning: 9 * factorial(8) = 362880\n",
            "    Returning: 10 * factorial(9) = 3628800\n",
            "  Returning: 11 * factorial(10) = 39916800\n",
            "Returning: 12 * factorial(11) = 479001600\n",
            "The factorial of 12 is 479001600\n"
          ]
        }
      ]
    }
  ]
}