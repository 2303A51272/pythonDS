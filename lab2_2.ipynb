{
  "nbformat": 4,
  "nbformat_minor": 0,
  "metadata": {
    "colab": {
      "provenance": [],
      "authorship_tag": "ABX9TyOmV5LcnkFTGUp+7xrG+ux0",
      "include_colab_link": true
    },
    "kernelspec": {
      "name": "python3",
      "display_name": "Python 3"
    },
    "language_info": {
      "name": "python"
    }
  },
  "cells": [
    {
      "cell_type": "markdown",
      "metadata": {
        "id": "view-in-github",
        "colab_type": "text"
      },
      "source": [
        "<a href=\"https://colab.research.google.com/github/2303A51272/pythonDS/blob/main/lab2_2.ipynb\" target=\"_parent\"><img src=\"https://colab.research.google.com/assets/colab-badge.svg\" alt=\"Open In Colab\"/></a>"
      ]
    },
    {
      "cell_type": "code",
      "execution_count": 2,
      "metadata": {
        "colab": {
          "base_uri": "https://localhost:8080/"
        },
        "id": "xhDN1IueoVlj",
        "outputId": "6e316f64-7e1a-450c-bc30-1724d73eac43"
      },
      "outputs": [
        {
          "output_type": "stream",
          "name": "stdout",
          "text": [
            "Original DataFrame:\n",
            "   Order ID     Product  Quantity  Price\n",
            "0       101      Laptop         1  85000\n",
            "1       102  Smartphone         2  30000\n",
            "2       103      Laptop         1  85000\n",
            "3       104      Tablet         3  20000\n",
            "4       105  Smartwatch         2  15000\n",
            "5       106  Headphones         5   4000\n",
            "6       107  Smartphone         1  30000\n",
            "7       108      Laptop         2  85000\n"
          ]
        }
      ],
      "source": [
        "import pandas as pd\n",
        "data = {\n",
        "    'Order ID': [101, 102, 103, 104, 105, 106, 107, 108],\n",
        "    'Product': ['Laptop', 'Smartphone', 'Laptop', 'Tablet', 'Smartwatch', 'Headphones', 'Smartphone', 'Laptop'],\n",
        "    'Quantity': [1, 2, 1, 3, 2, 5, 1, 2],\n",
        "    'Price': [85000, 30000, 85000, 20000, 15000, 4000, 30000, 85000]\n",
        "}\n",
        "\n",
        "df = pd.DataFrame(data)\n",
        "print(\"Original DataFrame:\")\n",
        "print(df)"
      ]
    },
    {
      "cell_type": "code",
      "source": [
        "df['Total Sale'] = df['Quantity'] * df['Price']\n",
        "print(\"\\nDataFrame with Total Sale:\")\n",
        "print(df)"
      ],
      "metadata": {
        "colab": {
          "base_uri": "https://localhost:8080/"
        },
        "id": "i_Y1bYL7oike",
        "outputId": "e4022a01-69f3-48b0-ca0c-b0a4b395ae8a"
      },
      "execution_count": 3,
      "outputs": [
        {
          "output_type": "stream",
          "name": "stdout",
          "text": [
            "\n",
            "DataFrame with Total Sale:\n",
            "   Order ID     Product  Quantity  Price  Total Sale\n",
            "0       101      Laptop         1  85000       85000\n",
            "1       102  Smartphone         2  30000       60000\n",
            "2       103      Laptop         1  85000       85000\n",
            "3       104      Tablet         3  20000       60000\n",
            "4       105  Smartwatch         2  15000       30000\n",
            "5       106  Headphones         5   4000       20000\n",
            "6       107  Smartphone         1  30000       30000\n",
            "7       108      Laptop         2  85000      170000\n"
          ]
        }
      ]
    },
    {
      "cell_type": "code",
      "source": [
        "high_value_orders = df[df['Total Sale'] > 1000]\n",
        "print(\"\\nOrders with Total Sale > 1000:\")\n",
        "print(high_value_orders)"
      ],
      "metadata": {
        "colab": {
          "base_uri": "https://localhost:8080/"
        },
        "id": "duWvJtAAomY1",
        "outputId": "6aa2955c-46c3-4325-bee3-ebabd2724984"
      },
      "execution_count": 4,
      "outputs": [
        {
          "output_type": "stream",
          "name": "stdout",
          "text": [
            "\n",
            "Orders with Total Sale > 1000:\n",
            "   Order ID     Product  Quantity  Price  Total Sale\n",
            "0       101      Laptop         1  85000       85000\n",
            "1       102  Smartphone         2  30000       60000\n",
            "2       103      Laptop         1  85000       85000\n",
            "3       104      Tablet         3  20000       60000\n",
            "4       105  Smartwatch         2  15000       30000\n",
            "5       106  Headphones         5   4000       20000\n",
            "6       107  Smartphone         1  30000       30000\n",
            "7       108      Laptop         2  85000      170000\n"
          ]
        }
      ]
    },
    {
      "cell_type": "code",
      "source": [
        "product_sales = df.groupby('Product')['Quantity'].sum().reset_index()\n",
        "most_sold = product_sales.loc[product_sales['Quantity'].idxmax()]\n",
        "print(\"\\nMost Sold Product:\")\n",
        "print(most_sold)"
      ],
      "metadata": {
        "colab": {
          "base_uri": "https://localhost:8080/"
        },
        "id": "7BkRtFCkoqgR",
        "outputId": "01af752f-d888-4be2-c116-6bf60b9208a9"
      },
      "execution_count": 5,
      "outputs": [
        {
          "output_type": "stream",
          "name": "stdout",
          "text": [
            "\n",
            "Most Sold Product:\n",
            "Product     Headphones\n",
            "Quantity             5\n",
            "Name: 0, dtype: object\n"
          ]
        }
      ]
    },
    {
      "cell_type": "code",
      "source": [
        "def discount_rule(sale):\n",
        "    if sale > 100000:\n",
        "        return 0.15\n",
        "    elif sale > 50000:\n",
        "        return 0.10\n",
        "    else:\n",
        "        return 0.05\n",
        "\n",
        "df['Discount Rate'] = df['Total Sale'].apply(discount_rule)\n",
        "df['Discount Amount'] = df['Total Sale'] * df['Discount Rate']\n",
        "df['Net Sale'] = df['Total Sale'] - df['Discount Amount']\n",
        "print(\"\\nDataFrame with Discount and Net Sale:\")\n",
        "print(df)"
      ],
      "metadata": {
        "colab": {
          "base_uri": "https://localhost:8080/"
        },
        "id": "f8Jvpf2Iot7P",
        "outputId": "bcf9c43f-d74b-4f0f-a90b-65cd9c0ffebb"
      },
      "execution_count": 6,
      "outputs": [
        {
          "output_type": "stream",
          "name": "stdout",
          "text": [
            "\n",
            "DataFrame with Discount and Net Sale:\n",
            "   Order ID     Product  Quantity  Price  Total Sale  Discount Rate  \\\n",
            "0       101      Laptop         1  85000       85000           0.10   \n",
            "1       102  Smartphone         2  30000       60000           0.10   \n",
            "2       103      Laptop         1  85000       85000           0.10   \n",
            "3       104      Tablet         3  20000       60000           0.10   \n",
            "4       105  Smartwatch         2  15000       30000           0.05   \n",
            "5       106  Headphones         5   4000       20000           0.05   \n",
            "6       107  Smartphone         1  30000       30000           0.05   \n",
            "7       108      Laptop         2  85000      170000           0.15   \n",
            "\n",
            "   Discount Amount  Net Sale  \n",
            "0           8500.0   76500.0  \n",
            "1           6000.0   54000.0  \n",
            "2           8500.0   76500.0  \n",
            "3           6000.0   54000.0  \n",
            "4           1500.0   28500.0  \n",
            "5           1000.0   19000.0  \n",
            "6           1500.0   28500.0  \n",
            "7          25500.0  144500.0  \n"
          ]
        }
      ]
    },
    {
      "cell_type": "code",
      "source": [
        "summary_path = \"ecommerce_sales_summary.xlsx\"\n",
        "df.to_excel(summary_path, index=False)\n",
        "print(f\"\\nSummary exported to: {summary_path}\")"
      ],
      "metadata": {
        "colab": {
          "base_uri": "https://localhost:8080/"
        },
        "id": "r-w72-Yyox76",
        "outputId": "d6fead3a-2a9a-4ee1-e3aa-9b41e2d992b1"
      },
      "execution_count": 7,
      "outputs": [
        {
          "output_type": "stream",
          "name": "stdout",
          "text": [
            "\n",
            "Summary exported to: ecommerce_sales_summary.xlsx\n"
          ]
        }
      ]
    }
  ]
}